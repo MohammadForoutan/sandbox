{
  "cells": [
    {
      "cell_type": "markdown",
      "metadata": {
        "id": "view-in-github",
        "colab_type": "text"
      },
      "source": [
        "<a href=\"https://colab.research.google.com/github/MohammadForoutan/sandbox/blob/master/Preparation%20-%205%20Minutes%20Pytorch%20Tensor%20Playground.ipynb\" target=\"_parent\"><img src=\"https://colab.research.google.com/assets/colab-badge.svg\" alt=\"Open In Colab\"/></a>"
      ]
    },
    {
      "cell_type": "markdown",
      "source": [
        "# Introduction to Pytorch\n",
        "import Numpy and Pytorch"
      ],
      "metadata": {
        "id": "RRp75IKA2mUr"
      }
    },
    {
      "cell_type": "code",
      "source": [
        "import torch\n",
        "import numpy"
      ],
      "metadata": {
        "id": "-jajxSWk0d8U"
      },
      "execution_count": 8,
      "outputs": []
    },
    {
      "cell_type": "markdown",
      "source": [
        "how to create tensors.\n",
        "1. from simple arrays\n",
        "2. use **numpy** arrays"
      ],
      "metadata": {
        "id": "pMkHNQgi3H65"
      }
    },
    {
      "cell_type": "code",
      "source": [
        "data = [[1,2], [3,4]]\n",
        "x_data = torch.tensor(data)\n",
        "print(x_data)"
      ],
      "metadata": {
        "colab": {
          "base_uri": "https://localhost:8080/"
        },
        "id": "BFqN2EBW2k9-",
        "outputId": "049bb05e-cbe8-48de-8e2c-902a4be0c89c"
      },
      "execution_count": 9,
      "outputs": [
        {
          "output_type": "stream",
          "name": "stdout",
          "text": [
            "tensor([[1, 2],\n",
            "        [3, 4]])\n"
          ]
        }
      ]
    },
    {
      "cell_type": "code",
      "source": [
        "np_data = numpy.array(data)\n",
        "print(np_data)\n",
        "print(\"------------\")\n",
        "x_np = torch.from_numpy(np_data)\n",
        "print(x_np)"
      ],
      "metadata": {
        "colab": {
          "base_uri": "https://localhost:8080/"
        },
        "id": "2sKW2cP63VAj",
        "outputId": "db7d3cd8-a6a4-4fff-84dd-6d66cf32dbaf"
      },
      "execution_count": 10,
      "outputs": [
        {
          "output_type": "stream",
          "name": "stdout",
          "text": [
            "[[1 2]\n",
            " [3 4]]\n",
            "------------\n",
            "tensor([[1, 2],\n",
            "        [3, 4]])\n"
          ]
        }
      ]
    },
    {
      "cell_type": "markdown",
      "source": [
        "create array like another data(tensor or array)"
      ],
      "metadata": {
        "id": "9vgz2bab38WE"
      }
    },
    {
      "cell_type": "code",
      "source": [
        "x_ones = torch.ones_like(x_data)\n",
        "print(x_ones)\n",
        "print(\"------------\")\n",
        "x_rand_float = torch.rand_like(x_data, dtype=torch.float)\n",
        "print(x_rand_float)"
      ],
      "metadata": {
        "colab": {
          "base_uri": "https://localhost:8080/"
        },
        "id": "2ENMiktN4DqT",
        "outputId": "3c4d430a-702d-42be-9cd3-a240f9a561f2"
      },
      "execution_count": 11,
      "outputs": [
        {
          "output_type": "stream",
          "name": "stdout",
          "text": [
            "tensor([[1, 1],\n",
            "        [1, 1]])\n",
            "------------\n",
            "tensor([[0.1262, 0.9169],\n",
            "        [0.9240, 0.3798]])\n"
          ]
        }
      ]
    },
    {
      "cell_type": "markdown",
      "source": [
        "generate data(ones, zeros)"
      ],
      "metadata": {
        "id": "SuruCKtZ5DgB"
      }
    },
    {
      "cell_type": "code",
      "source": [
        "x_ones_1 = torch.ones((2,3,))\n",
        "print(x_ones_1)\n",
        "print(\"------------\")\n",
        "x_zeros_1 = torch.zeros((4,3,))\n",
        "print(x_zeros_1)\n",
        "print(\"------------\")\n",
        "x_rand_1 = torch.rand((2,3,))\n",
        "print(x_rand_1)"
      ],
      "metadata": {
        "colab": {
          "base_uri": "https://localhost:8080/"
        },
        "id": "bB2K4uJF5IW2",
        "outputId": "bb9a7f57-51e5-40e8-af19-5d5e3d8e70e9"
      },
      "execution_count": 13,
      "outputs": [
        {
          "output_type": "stream",
          "name": "stdout",
          "text": [
            "tensor([[1., 1., 1.],\n",
            "        [1., 1., 1.]])\n",
            "------------\n",
            "tensor([[0., 0., 0.],\n",
            "        [0., 0., 0.],\n",
            "        [0., 0., 0.],\n",
            "        [0., 0., 0.]])\n",
            "------------\n",
            "tensor([[0.5632, 0.4880, 0.0698],\n",
            "        [0.0137, 0.4499, 0.9689]])\n"
          ]
        }
      ]
    },
    {
      "cell_type": "markdown",
      "source": [
        "# Working with tensor properties"
      ],
      "metadata": {
        "id": "5rNiHh4r5p2O"
      }
    },
    {
      "cell_type": "code",
      "source": [
        "my_rand_array = torch.rand((2,3))\n",
        "\n",
        "print(my_rand_array)\n",
        "print(\"------------\")\n",
        "print(\"shape of tenor\")\n",
        "print(\"shape: \",my_rand_array.shape)\n",
        "print(\"------------\")\n",
        "print(\"data type of tensor (float32, int64)\")\n",
        "print(\"data type: \",my_rand_array.dtype)\n",
        "print(\"------------\")\n",
        "print(\"tensor device of tensor (cpu or gpu)\")\n",
        "print(\"weather device is working on cpu or gpu: \", my_rand_array.is_cuda)\n",
        "print(\"data device: \",my_rand_array.device)\n",
        "print(\"------------\")\n",
        "print(\"check cuda is available or not\")\n",
        "print(\"cuda(gpu) availablity: \",torch.cuda.is_available())\n"
      ],
      "metadata": {
        "colab": {
          "base_uri": "https://localhost:8080/"
        },
        "id": "slJc8MPC5_kX",
        "outputId": "b9f46f2f-b29e-464f-b77c-e0e4d9360509"
      },
      "execution_count": 19,
      "outputs": [
        {
          "output_type": "stream",
          "name": "stdout",
          "text": [
            "tensor([[0.2862, 0.7825, 0.4402],\n",
            "        [0.5579, 0.3134, 0.9940]])\n",
            "------------\n",
            "shape of tenor\n",
            "shape:  torch.Size([2, 3])\n",
            "------------\n",
            "data type of tensor (float32, int64)\n",
            "data type:  torch.float32\n",
            "------------\n",
            "tensor device of tensor (cpu or gpu)\n",
            "weather device is working on cpu or gpu:  False\n",
            "data device:  cpu\n",
            "------------\n",
            "check cuda is available or not\n",
            "cuda(gpu) availablity:  False\n"
          ]
        }
      ]
    },
    {
      "cell_type": "markdown",
      "source": [
        "# Working with ternsors data"
      ],
      "metadata": {
        "id": "Y-HJvGTQ79A8"
      }
    },
    {
      "cell_type": "markdown",
      "source": [
        "access tensors cells"
      ],
      "metadata": {
        "id": "Hof774Zt9HCI"
      }
    },
    {
      "cell_type": "code",
      "source": [
        "x_rand_2 = torch.rand((2,3,))\n",
        "print(x_rand_2)\n",
        "print(\"------------\")\n",
        "print(\"row 1: \",x_rand_2[0])\n",
        "print(\"------------\")\n",
        "print(\"row 2: \",x_rand_2[1])\n",
        "print(\"------------\")\n",
        "print(\"column 1: \",x_rand_2[:,0])\n",
        "print(\"------------\")\n",
        "print(\"column 2: \",x_rand_2[:,1])\n",
        "print(\"------------\")\n",
        "print(\"column 3: \",x_rand_2[:,2])\n",
        "print(\"------------\")\n",
        "print(\"column 1 and 2: \",x_rand_2[:,:2])\n",
        "print(\"------------\")\n",
        "print(\"column 2 and 3: \",x_rand_2[:,1:])\n",
        "print(\"------------\")\n",
        "print(\"cell in row 1 and column 1: \",x_rand_2[0,0])\n",
        "print(\"------------\")\n",
        "print(\"cell in row 1 and column 2: \",x_rand_2[0,1])\n",
        "print(\"------------\")\n",
        "print(\"cell in row 1 and column 3: \",x_rand_2[0,2])\n",
        "print(\"------------\")\n",
        "print(\"cell in row 2 and column 1: \",x_rand_2[1,0])\n",
        "print(\"------------\")\n",
        "print(\"cell in row 2 and column 2: \",x_rand_2[1,1])\n",
        "print(\"------------\")\n",
        "print(\"cell in row 2 and column 3: \",x_rand_2[1,2])"
      ],
      "metadata": {
        "colab": {
          "base_uri": "https://localhost:8080/"
        },
        "id": "cOaK4VMQ8BJm",
        "outputId": "3536c322-03bc-43d1-fd2c-89113f3eb9ad"
      },
      "execution_count": 25,
      "outputs": [
        {
          "output_type": "stream",
          "name": "stdout",
          "text": [
            "tensor([[0.1535, 0.6570, 0.4223],\n",
            "        [0.2168, 0.0153, 0.7382]])\n",
            "------------\n",
            "row 1:  tensor([0.1535, 0.6570, 0.4223])\n",
            "------------\n",
            "row 2:  tensor([0.2168, 0.0153, 0.7382])\n",
            "------------\n",
            "column 1:  tensor([0.1535, 0.2168])\n",
            "------------\n",
            "column 2:  tensor([0.6570, 0.0153])\n",
            "------------\n",
            "column 3:  tensor([0.4223, 0.7382])\n",
            "------------\n",
            "column 1 and 2:  tensor([[0.1535, 0.6570],\n",
            "        [0.2168, 0.0153]])\n",
            "------------\n",
            "column 2 and 3:  tensor([[0.6570, 0.4223],\n",
            "        [0.0153, 0.7382]])\n",
            "------------\n",
            "cell in row 1 and column 1:  tensor(0.1535)\n",
            "------------\n",
            "cell in row 1 and column 2:  tensor(0.6570)\n",
            "------------\n",
            "cell in row 1 and column 3:  tensor(0.4223)\n",
            "------------\n",
            "cell in row 2 and column 1:  tensor(0.2168)\n",
            "------------\n",
            "cell in row 2 and column 2:  tensor(0.0153)\n",
            "------------\n",
            "cell in row 2 and column 3:  tensor(0.7382)\n"
          ]
        }
      ]
    },
    {
      "cell_type": "markdown",
      "source": [
        "# Concat and Multiply with arrays"
      ],
      "metadata": {
        "id": "rqSDsVgbAYHB"
      }
    },
    {
      "cell_type": "markdown",
      "source": [
        "## How to Concat tensors in pytorch"
      ],
      "metadata": {
        "id": "IsxlFXfOCe_r"
      }
    },
    {
      "cell_type": "code",
      "source": [
        "x_ones_3 = torch.ones((3,2,))\n",
        "print(x_ones_3)\n",
        "print(\"------------\")\n",
        "x_zeros_3 = torch.zeros((3,2))\n",
        "print(x_zeros_3)\n",
        "print(\"------------\")\n",
        "dt0 = torch.cat([x_ones_3, x_zeros_3], dim=0)\n",
        "print(\"dim=0\")\n",
        "print(dt0)\n",
        "print(\"------------\")\n",
        "dt1 = torch.cat([x_ones_3, x_zeros_3], dim=1)\n",
        "print(\"dim=1\")\n",
        "print(dt1)"
      ],
      "metadata": {
        "colab": {
          "base_uri": "https://localhost:8080/"
        },
        "id": "QTjQzpJGAcvL",
        "outputId": "36a423a5-cc63-49ec-bf0e-ab4213836133"
      },
      "execution_count": 30,
      "outputs": [
        {
          "output_type": "stream",
          "name": "stdout",
          "text": [
            "tensor([[1., 1.],\n",
            "        [1., 1.],\n",
            "        [1., 1.]])\n",
            "------------\n",
            "tensor([[0., 0.],\n",
            "        [0., 0.],\n",
            "        [0., 0.]])\n",
            "------------\n",
            "dim=0\n",
            "tensor([[1., 1.],\n",
            "        [1., 1.],\n",
            "        [1., 1.],\n",
            "        [0., 0.],\n",
            "        [0., 0.],\n",
            "        [0., 0.]])\n",
            "------------\n",
            "dim=1\n",
            "tensor([[1., 1., 0., 0.],\n",
            "        [1., 1., 0., 0.],\n",
            "        [1., 1., 0., 0.]])\n"
          ]
        }
      ]
    },
    {
      "cell_type": "markdown",
      "source": [
        "## How to Multiplication tensors in pytorch"
      ],
      "metadata": {
        "id": "l0E5vPvsClI9"
      }
    },
    {
      "cell_type": "code",
      "source": [
        "x_rand_1 = torch.rand((4,4))\n",
        "x_rand_2 = torch.rand((4,4))\n",
        "\n",
        "\n",
        "x_out_0 = x_rand_1 @ x_rand_2\n",
        "print(x_out_0)\n",
        "print(\"------------\")\n",
        "x_out_1 = x_rand_1.matmul(x_rand_2)\n",
        "print(x_out_1)\n"
      ],
      "metadata": {
        "colab": {
          "base_uri": "https://localhost:8080/"
        },
        "id": "uKbPx_PPB_tl",
        "outputId": "af0d337a-9bcb-4f30-ae11-950e2bc7e41c"
      },
      "execution_count": 32,
      "outputs": [
        {
          "output_type": "stream",
          "name": "stdout",
          "text": [
            "tensor([[0.8768, 2.0641, 1.3298, 1.3863],\n",
            "        [0.9570, 1.3747, 1.0787, 0.9692],\n",
            "        [0.5723, 1.1873, 1.0840, 0.4753],\n",
            "        [1.0593, 2.1977, 1.8406, 1.1328]])\n",
            "------------\n",
            "tensor([[0.8768, 2.0641, 1.3298, 1.3863],\n",
            "        [0.9570, 1.3747, 1.0787, 0.9692],\n",
            "        [0.5723, 1.1873, 1.0840, 0.4753],\n",
            "        [1.0593, 2.1977, 1.8406, 1.1328]])\n",
            "----------------------\n"
          ]
        }
      ]
    },
    {
      "cell_type": "markdown",
      "source": [
        "## transpose a tensor"
      ],
      "metadata": {
        "id": "I_iuckg5DMTj"
      }
    },
    {
      "cell_type": "code",
      "source": [
        "x_rand_3 = torch.rand((4,6))\n",
        "x_rand_4 = torch.rand((4,6))\n",
        "\n",
        "\n",
        "# transpose x_rand_4\n",
        "x_out_0 = x_rand_3 @ x_rand_4.T\n",
        "print(x_out_0)\n",
        "print(\"------------\")\n",
        "x_out_1 = x_rand_3.matmul(x_rand_4.T)\n",
        "print(x_out_1)"
      ],
      "metadata": {
        "colab": {
          "base_uri": "https://localhost:8080/"
        },
        "id": "fmWQUHHSCxFF",
        "outputId": "e6067795-d0d6-4dd6-f87e-9be97be50b9b"
      },
      "execution_count": 36,
      "outputs": [
        {
          "output_type": "stream",
          "name": "stdout",
          "text": [
            "tensor([[1.8341, 1.3690, 2.0436, 2.0974],\n",
            "        [1.8504, 1.4084, 2.0825, 1.6316],\n",
            "        [1.2962, 1.5015, 1.4883, 1.5524],\n",
            "        [1.8020, 1.9722, 2.2819, 2.3988]])\n",
            "------------\n",
            "tensor([[1.8341, 1.3690, 2.0436, 2.0974],\n",
            "        [1.8504, 1.4084, 2.0825, 1.6316],\n",
            "        [1.2962, 1.5015, 1.4883, 1.5524],\n",
            "        [1.8020, 1.9722, 2.2819, 2.3988]])\n"
          ]
        }
      ]
    },
    {
      "cell_type": "markdown",
      "source": [
        "## Multiply each tensor cell like python array"
      ],
      "metadata": {
        "id": "lYiqp1nxFHMJ"
      }
    },
    {
      "cell_type": "code",
      "source": [
        "x_rand_3 = torch.rand((4,6))\n",
        "x_rand_4 = torch.rand((4,6))\n",
        "\n",
        "print(\"x_rand_3\")\n",
        "print(x_rand_3)\n",
        "print(\"------------\")\n",
        "print(\"x_rand_4\")\n",
        "print(x_rand_4)\n",
        "print(\"------------\")\n",
        "z_1 = x_rand_3 * x_rand_4;\n",
        "print(z_1)\n",
        "print(\"------------\")\n",
        "z_2 = x_rand_3.mul(x_rand_4)\n",
        "print(z_2)\n",
        "print(\"------------\")\n",
        "z_3 = torch.mul(x_rand_3, x_rand_4)\n",
        "print(z_3)\n"
      ],
      "metadata": {
        "colab": {
          "base_uri": "https://localhost:8080/"
        },
        "id": "8YC9EPWHEErO",
        "outputId": "031d5acc-1dcd-4907-8b12-e5208d62c13d"
      },
      "execution_count": 39,
      "outputs": [
        {
          "output_type": "stream",
          "name": "stdout",
          "text": [
            "x_rand_3\n",
            "tensor([[0.5319, 0.0468, 0.4165, 0.6616, 0.8738, 0.0554],\n",
            "        [0.8548, 0.2917, 0.8186, 0.4006, 0.9103, 0.2895],\n",
            "        [0.7449, 0.6590, 0.4227, 0.2631, 0.3698, 0.6816],\n",
            "        [0.2309, 0.2639, 0.7159, 0.9911, 0.2769, 0.9318]])\n",
            "------------\n",
            "x_rand_4\n",
            "tensor([[0.9778, 0.3691, 0.1210, 0.1673, 0.1244, 0.2637],\n",
            "        [0.4124, 0.1312, 0.3953, 0.9231, 0.2815, 0.8365],\n",
            "        [0.5720, 0.0923, 0.7138, 0.8461, 0.6694, 0.1585],\n",
            "        [0.6006, 0.5953, 0.4397, 0.4149, 0.1557, 0.5886]])\n",
            "------------\n",
            "tensor([[0.5201, 0.0173, 0.0504, 0.1107, 0.1087, 0.0146],\n",
            "        [0.3525, 0.0383, 0.3236, 0.3698, 0.2562, 0.2422],\n",
            "        [0.4261, 0.0608, 0.3017, 0.2226, 0.2476, 0.1080],\n",
            "        [0.1387, 0.1571, 0.3148, 0.4112, 0.0431, 0.5484]])\n",
            "------------\n",
            "tensor([[0.5201, 0.0173, 0.0504, 0.1107, 0.1087, 0.0146],\n",
            "        [0.3525, 0.0383, 0.3236, 0.3698, 0.2562, 0.2422],\n",
            "        [0.4261, 0.0608, 0.3017, 0.2226, 0.2476, 0.1080],\n",
            "        [0.1387, 0.1571, 0.3148, 0.4112, 0.0431, 0.5484]])\n",
            "------------\n",
            "tensor([[0.5201, 0.0173, 0.0504, 0.1107, 0.1087, 0.0146],\n",
            "        [0.3525, 0.0383, 0.3236, 0.3698, 0.2562, 0.2422],\n",
            "        [0.4261, 0.0608, 0.3017, 0.2226, 0.2476, 0.1080],\n",
            "        [0.1387, 0.1571, 0.3148, 0.4112, 0.0431, 0.5484]])\n"
          ]
        }
      ]
    },
    {
      "cell_type": "markdown",
      "source": [
        "## Sum in Tensors"
      ],
      "metadata": {
        "id": "7Wzw72fQE-3t"
      }
    },
    {
      "cell_type": "code",
      "source": [
        "x_ones_2 = torch.ones((3,2,))\n",
        "print(x_ones_2)\n",
        "print(\"------------\")\n",
        "x_sum = x_ones_2.sum()\n",
        "print(x_sum)\n",
        "print(\"------------\")\n",
        "x_sum_item = x_sum.item()\n",
        "print(x_sum_item)\n",
        "\n"
      ],
      "metadata": {
        "colab": {
          "base_uri": "https://localhost:8080/"
        },
        "id": "Cb_dVRyeExNL",
        "outputId": "676db926-f455-4b97-e04c-981f7d3ab6fa"
      },
      "execution_count": 40,
      "outputs": [
        {
          "output_type": "stream",
          "name": "stdout",
          "text": [
            "tensor([[1., 1.],\n",
            "        [1., 1.],\n",
            "        [1., 1.]])\n",
            "------------\n",
            "tensor(6.)\n",
            "------------\n",
            "6.0\n",
            "------------\n"
          ]
        }
      ]
    },
    {
      "cell_type": "markdown",
      "source": [
        "## more methods\n",
        "Direct(in place) update in torch, without assigin value to another variable"
      ],
      "metadata": {
        "id": "scC34h3mFgva"
      }
    },
    {
      "cell_type": "code",
      "source": [
        "x_ones_4 = torch.ones((3,2))\n",
        "x_ones_4.add_(5)\n",
        "print(x_ones_4)"
      ],
      "metadata": {
        "colab": {
          "base_uri": "https://localhost:8080/"
        },
        "id": "OjRxQlCgFWZA",
        "outputId": "f0e9b75a-fdf2-484d-e3a5-61ec19333483"
      },
      "execution_count": 41,
      "outputs": [
        {
          "output_type": "stream",
          "name": "stdout",
          "text": [
            "tensor([[6., 6.],\n",
            "        [6., 6.],\n",
            "        [6., 6.]])\n"
          ]
        }
      ]
    },
    {
      "cell_type": "markdown",
      "source": [
        "# Work with Datasets"
      ],
      "metadata": {
        "id": "oM076DtEGEWV"
      }
    }
  ],
  "metadata": {
    "kernelspec": {
      "display_name": "Python 2",
      "language": "python",
      "name": "python2"
    },
    "language_info": {
      "codemirror_mode": {
        "name": "ipython",
        "version": 2
      },
      "file_extension": ".py",
      "mimetype": "text/x-python",
      "name": "python",
      "nbconvert_exporter": "python",
      "pygments_lexer": "ipython2",
      "version": "2.7.12"
    },
    "colab": {
      "provenance": [],
      "include_colab_link": true
    }
  },
  "nbformat": 4,
  "nbformat_minor": 0
}