{
  "cells": [
    {
      "cell_type": "markdown",
      "metadata": {
        "id": "view-in-github",
        "colab_type": "text"
      },
      "source": [
        "<a href=\"https://colab.research.google.com/github/MohammadForoutan/sandbox/blob/master/Preparation%20-%205%20Minutes%20Pytorch%20Tensor%20Playground.ipynb\" target=\"_parent\"><img src=\"https://colab.research.google.com/assets/colab-badge.svg\" alt=\"Open In Colab\"/></a>"
      ]
    },
    {
      "cell_type": "markdown",
      "source": [
        "**Test if PyTorch is installed correctly:**"
      ],
      "metadata": {
        "id": "VW3_QdGLhs9X"
      }
    },
    {
      "cell_type": "code",
      "source": [
        "import torch\n",
        "print(torch.__version__)\n",
        "print(torch.cuda.is_available())  # Check if GPU is accessible\n"
      ],
      "metadata": {
        "id": "vCFU6KcQhSIC",
        "outputId": "de1defc9-5928-4413-87a1-7f68f40268f2",
        "colab": {
          "base_uri": "https://localhost:8080/"
        }
      },
      "execution_count": 1,
      "outputs": [
        {
          "output_type": "stream",
          "name": "stdout",
          "text": [
            "2.5.1+cu121\n",
            "False\n"
          ]
        }
      ]
    },
    {
      "cell_type": "markdown",
      "source": [
        "**Basic PyTorch Operations**\n",
        "**Create Tensors:**"
      ],
      "metadata": {
        "id": "YRrZwLE3h4DI"
      }
    },
    {
      "cell_type": "code",
      "source": [
        "import torch\n",
        "\n",
        "# Create a tensor\n",
        "x = torch.tensor([1.0, 2.0, 3.0])\n",
        "print(x)\n",
        "\n",
        "# Create a random tensor\n",
        "random_tensor = torch.rand(3, 3)\n",
        "print(random_tensor)\n"
      ],
      "metadata": {
        "id": "KXJm7X--hjD0",
        "outputId": "b54e5f10-dd8a-405f-872f-9b80a602e95b",
        "colab": {
          "base_uri": "https://localhost:8080/"
        }
      },
      "execution_count": 3,
      "outputs": [
        {
          "output_type": "stream",
          "name": "stdout",
          "text": [
            "tensor([1., 2., 3.])\n",
            "tensor([[0.6358, 0.3887, 0.2487],\n",
            "        [0.6523, 0.2064, 0.6447],\n",
            "        [0.2172, 0.4201, 0.0874]])\n"
          ]
        }
      ]
    },
    {
      "cell_type": "code",
      "source": [
        "# Addition\n",
        "a = torch.tensor([1, 2, 3])\n",
        "b = torch.tensor([4, 5, 6])\n",
        "c = a + b\n",
        "print(c)\n",
        "\n",
        "# Matrix Multiplication\n",
        "matrix1 = torch.tensor([[1, 2], [3, 4]])\n",
        "matrix2 = torch.tensor([[5, 6], [7, 8]])\n",
        "result = torch.matmul(matrix1, matrix2)\n",
        "print(result)\n"
      ],
      "metadata": {
        "id": "VgZmWf5YiJ0d",
        "outputId": "c8040c42-14e7-41b3-cdc5-db990f180eaf",
        "colab": {
          "base_uri": "https://localhost:8080/"
        }
      },
      "execution_count": 4,
      "outputs": [
        {
          "output_type": "stream",
          "name": "stdout",
          "text": [
            "tensor([5, 7, 9])\n",
            "tensor([[19, 22],\n",
            "        [43, 50]])\n"
          ]
        }
      ]
    }
  ],
  "metadata": {
    "kernelspec": {
      "display_name": "Python 2",
      "language": "python",
      "name": "python2"
    },
    "language_info": {
      "codemirror_mode": {
        "name": "ipython",
        "version": 2
      },
      "file_extension": ".py",
      "mimetype": "text/x-python",
      "name": "python",
      "nbconvert_exporter": "python",
      "pygments_lexer": "ipython2",
      "version": "2.7.12"
    },
    "colab": {
      "provenance": [],
      "include_colab_link": true
    }
  },
  "nbformat": 4,
  "nbformat_minor": 0
}